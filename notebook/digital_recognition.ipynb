{
 "cells": [
  {
   "cell_type": "code",
   "execution_count": null,
   "id": "d1270e85",
   "metadata": {},
   "outputs": [],
   "source": [
    "import os, random\n",
    "import numpy as np\n",
    "import matplotlib.image as pltimage\n",
    "import matplotlib.pyplot as plt\n",
    "from PIL import Image\n",
    "def show_files(label_dir):\n",
    "    all_files = []\n",
    "    file_list = os.listdir(label_dir)\n",
    "    for file in file_list:\n",
    "        cur_path = os.path.join(label_dir, file)\n",
    "        root, extension = os.path.splitext(cur_path)\n",
    "        ext_lower = extension.lower()\n",
    "        if ext_lower == \".png\" or ext_lower == \".jpg\" or ext_lower == \".jpeg\":\n",
    "            all_files.append(cur_path)\n",
    "    return all_files\n",
    "\n",
    "def obtainXY(data_dir, shuffle=False):\n",
    "    X = []\n",
    "    Y = []\n",
    "    classes =  [i for i in range(10)]\n",
    "    for label in classes:\n",
    "        all_files = show_files(data_dir + str(label))\n",
    "        for file in all_files:\n",
    "            img = Image.open(file)\n",
    "            img = img.resize((28, 28), Image.ANTIALIAS)\n",
    "            gray = img.convert(\"L\")\n",
    "            x = np.asarray(gray)/255.\n",
    "            y = label\n",
    "            X.append(x)\n",
    "            Y.append(y)\n",
    "    X = np.array(X)\n",
    "    Y = np.array(Y)\n",
    "    if shuffle:\n",
    "        indexs = [i for i in range(len(X))] \n",
    "        random.shuffle(indexs) #乱序\n",
    "        X = X[indexs]\n",
    "        Y = Y[indexs]\n",
    "    return X, Y\n",
    "\n",
    "dataset_dir = \"./dataset/\"\n",
    "X, Y = obtainXY(dataset_dir, shuffle=True)\n",
    "print(X.shape, Y.shape)"
   ]
  },
  {
   "cell_type": "code",
   "execution_count": null,
   "id": "494583cf",
   "metadata": {},
   "outputs": [],
   "source": [
    "from collections import  Counter\n",
    "\n",
    "def print_pecent(data, class_num=10):\n",
    "    y_ = list(data)\n",
    "    size = len(y_)\n",
    "    class_counter = Counter(y_)\n",
    "    print(class_counter, size)\n",
    "    for i in range(class_num):\n",
    "        print(i, \"占比:\", round(class_counter[i]/size, 3))\n",
    "\n",
    "print_pecent(Y)"
   ]
  },
  {
   "cell_type": "code",
   "execution_count": null,
   "id": "89f4e4ab",
   "metadata": {},
   "outputs": [],
   "source": [
    "import tensorflow as tf\n",
    "from keras import layers, regularizers\n",
    "from keras.models import Sequential\n",
    "from keras.callbacks import ModelCheckpoint\n",
    "from keras.models import load_model\n",
    "\n",
    "def creat_nn(print_summary=False):\n",
    "    model = Sequential()\n",
    "    model.add(layers.Flatten(input_shape=(28, 28)))\n",
    "    model.add(layers.Dense(128, activation='relu'))\n",
    "    model.add(layers.Dropout(0.2))\n",
    "    model.add(layers.Dense(10, activation='softmax'))\n",
    "    model.compile(loss='categorical_crossentropy', \n",
    "        optimizer='adam', metrics=['accuracy'])\n",
    "    if print_summary:\n",
    "        model.summary()\n",
    "    return model\n",
    "\n",
    "def train_nn(train_x, train_y, batch_size, epochs, load_save_model=False):\n",
    "    model_path = './model/'\n",
    "    if load_save_model:\n",
    "        print('train load save model path', model_path)\n",
    "        model = load_model(model_path)\n",
    "    else:\n",
    "        print('train create new model')\n",
    "        model = creat_nn(print_summary=True)\n",
    "    model.fit(train_x, train_y, batch_size=batch_size, \n",
    "        epochs=epochs, verbose=1)\n",
    "    model.save(model_path)\n",
    "    \n",
    "    #save tflite model\n",
    "    converter = tf.lite.TFLiteConverter.from_keras_model(model)\n",
    "    tflite_model = converter.convert()\n",
    "    open(\"mymodel.tflite\", \"wb\").write(tflite_model)\n",
    "    return model\n",
    "\n",
    "train_x = X\n",
    "# 将label转成向量，如 2 => [0, 0, 1, 0, 0, 0, 0, 0, 0, 0]\n",
    "train_y = tf.keras.utils.to_categorical(Y, num_classes=10)\n",
    "# input output shape\n",
    "print(train_x.shape, train_y.shape)\n",
    "# first train model\n",
    "model = train_nn(train_x, train_y, batch_size=16, epochs=16, load_save_model=False)"
   ]
  },
  {
   "cell_type": "code",
   "execution_count": null,
   "id": "6458b31e",
   "metadata": {},
   "outputs": [],
   "source": [
    "def verify_model(model, valid_x, valid_y, num_classes=10):\n",
    "    y_pred = model.predict(valid_x)\n",
    "    y_pred = np.argmax(y_pred, axis=1)\n",
    "    size = [0 for i in range(num_classes)]\n",
    "    correct = [0 for i in range(num_classes)]\n",
    "    for i in range(len(y_pred)):\n",
    "        label = valid_y[i]\n",
    "        pred = y_pred[i]\n",
    "        size[label] += 1\n",
    "        if pred == label:\n",
    "            correct[label] += 1\n",
    "    print(\"total accuracy:\", sum(correct)/sum(size))\n",
    "    for i in range(num_classes):\n",
    "        print(\"label:\", str(i), \" accuracy:\", correct[i]/max(size[i], 1))\n",
    "\n",
    "\n",
    "dataset_test_dir = \"./dataset-test/\"\n",
    "vX, vY = obtainXY(dataset_test_dir)\n",
    "print(vX.shape, vY.shape)\n",
    "verify_model(model, vX, vY)"
   ]
  },
  {
   "cell_type": "code",
   "execution_count": null,
   "id": "f9353d12",
   "metadata": {},
   "outputs": [],
   "source": [
    "# retrain model\n",
    "train_nn(train_x, train_y, batch_size=16, epochs=8, load_save_model=True)"
   ]
  },
  {
   "cell_type": "code",
   "execution_count": null,
   "id": "89a24b9c",
   "metadata": {},
   "outputs": [],
   "source": [
    "image = tf.io.read_file(\"./dataset/0/2022_06_28_08_27_39_796.png\")\n",
    "image = tf.io.decode_jpeg(image)\n",
    "image = tf.cast(image, tf.float32)\n",
    "flipped = tf.image.flip_left_right(image)\n",
    "plt.show(flipped / 255.0)"
   ]
  },
  {
   "cell_type": "code",
   "execution_count": null,
   "id": "94b7315f",
   "metadata": {},
   "outputs": [],
   "source": [
    "def creat_cnn(input_shape=(9, 6)):\n",
    "    model = Sequential()\n",
    "    model.add(layers.Conv1D(6, kernel_size=3, input_shape=input_shape, padding='same', activation='relu'))\n",
    "    model.add(layers.Conv1D(12, kernel_size=3, input_shape=input_shape, padding='same', activation='relu'))\n",
    "    model.add(layers.MaxPooling1D(pool_size=3, strides=None, padding='same', data_format='channels_last'))\n",
    "    model.add(layers.Conv1D(24, kernel_size=3, input_shape=input_shape, padding='same', activation='relu'))\n",
    "    model.add(layers.Flatten())\n",
    "    model.add(layers.Dense(128, activation='relu'))\n",
    "    model.add(layers.Dense(64, activation='relu'))\n",
    "    model.add(layers.Dense(1, activation='sigmoid'))\n",
    "    model.compile(loss=\"binary_crossentropy\", optimizer='adam', metrics=[\"accuracy\"])\n",
    "    model.summary()\n",
    "    return model\n"
   ]
  },
  {
   "cell_type": "code",
   "execution_count": 2,
   "id": "17c580fb",
   "metadata": {},
   "outputs": [
    {
     "name": "stdout",
     "output_type": "stream",
     "text": [
      "\u001b[34mdataset\u001b[m\u001b[m/                   digital_recognition.ipynb\n",
      "\u001b[34mdataset-test\u001b[m\u001b[m/              \u001b[34mmodel\u001b[m\u001b[m/\n",
      "dataset-test.zip           model.zip\n",
      "dataset.zip                mymodel.tflite\n"
     ]
    }
   ],
   "source": [
    "ls"
   ]
  },
  {
   "cell_type": "code",
   "execution_count": 3,
   "id": "3fd15df4",
   "metadata": {},
   "outputs": [
    {
     "ename": "TypeError",
     "evalue": "expected str, bytes or os.PathLike object, not function",
     "output_type": "error",
     "traceback": [
      "\u001b[0;31m---------------------------------------------------------------------------\u001b[0m",
      "\u001b[0;31mTypeError\u001b[0m                                 Traceback (most recent call last)",
      "\u001b[1;32m/Users/yidong/Desktop/青训营/DigitalRecognition/notebook/digital_recognition.ipynb Cell 9'\u001b[0m in \u001b[0;36m<cell line: 17>\u001b[0;34m()\u001b[0m\n\u001b[1;32m     <a href='vscode-notebook-cell:/Users/yidong/Desktop/%E9%9D%92%E8%AE%AD%E8%90%A5/DigitalRecognition/notebook/digital_recognition.ipynb#ch0000007?line=14'>15</a>\u001b[0m z \u001b[39m=\u001b[39m zipfile\u001b[39m.\u001b[39mZipFile(zip_file, \u001b[39m'\u001b[39m\u001b[39mw\u001b[39m\u001b[39m'\u001b[39m, zipfile\u001b[39m.\u001b[39mZIP_DEFLATED)\n\u001b[1;32m     <a href='vscode-notebook-cell:/Users/yidong/Desktop/%E9%9D%92%E8%AE%AD%E8%90%A5/DigitalRecognition/notebook/digital_recognition.ipynb#ch0000007?line=15'>16</a>\u001b[0m zip_dir_name \u001b[39m=\u001b[39m os\u001b[39m.\u001b[39mpath\u001b[39m.\u001b[39mjoin(\u001b[39m\"\u001b[39m\u001b[39m./\u001b[39m\u001b[39m\"\u001b[39m, \u001b[39m\"\u001b[39m\u001b[39mdataset\u001b[39m\u001b[39m\"\u001b[39m)\n\u001b[0;32m---> <a href='vscode-notebook-cell:/Users/yidong/Desktop/%E9%9D%92%E8%AE%AD%E8%90%A5/DigitalRecognition/notebook/digital_recognition.ipynb#ch0000007?line=16'>17</a>\u001b[0m zipDir(z, zip_dir_name, \u001b[39m\"\u001b[39;49m\u001b[39m\"\u001b[39;49m)\n\u001b[1;32m     <a href='vscode-notebook-cell:/Users/yidong/Desktop/%E9%9D%92%E8%AE%AD%E8%90%A5/DigitalRecognition/notebook/digital_recognition.ipynb#ch0000007?line=17'>18</a>\u001b[0m z\u001b[39m.\u001b[39mclose()\n",
      "\u001b[1;32m/Users/yidong/Desktop/青训营/DigitalRecognition/notebook/digital_recognition.ipynb Cell 9'\u001b[0m in \u001b[0;36mzipDir\u001b[0;34m(zip_file, src_dir, parent_dir)\u001b[0m\n\u001b[1;32m      <a href='vscode-notebook-cell:/Users/yidong/Desktop/%E9%9D%92%E8%AE%AD%E8%90%A5/DigitalRecognition/notebook/digital_recognition.ipynb#ch0000007?line=4'>5</a>\u001b[0m \u001b[39mfor\u001b[39;00m name \u001b[39min\u001b[39;00m files:\n\u001b[1;32m      <a href='vscode-notebook-cell:/Users/yidong/Desktop/%E9%9D%92%E8%AE%AD%E8%90%A5/DigitalRecognition/notebook/digital_recognition.ipynb#ch0000007?line=5'>6</a>\u001b[0m     \u001b[39mif\u001b[39;00m name \u001b[39mnot\u001b[39;00m \u001b[39min\u001b[39;00m [\u001b[39m'\u001b[39m\u001b[39m.\u001b[39m\u001b[39m'\u001b[39m, \u001b[39m'\u001b[39m\u001b[39m..\u001b[39m\u001b[39m'\u001b[39m]:\n\u001b[0;32m----> <a href='vscode-notebook-cell:/Users/yidong/Desktop/%E9%9D%92%E8%AE%AD%E8%90%A5/DigitalRecognition/notebook/digital_recognition.ipynb#ch0000007?line=6'>7</a>\u001b[0m         cur_name \u001b[39m=\u001b[39m os\u001b[39m.\u001b[39;49mpath\u001b[39m.\u001b[39;49mjoin(zipDir, name)\n\u001b[1;32m      <a href='vscode-notebook-cell:/Users/yidong/Desktop/%E9%9D%92%E8%AE%AD%E8%90%A5/DigitalRecognition/notebook/digital_recognition.ipynb#ch0000007?line=7'>8</a>\u001b[0m         dst_name \u001b[39m=\u001b[39m os\u001b[39m.\u001b[39mpath\u001b[39m.\u001b[39mjoin(parent_dir, name)\n\u001b[1;32m      <a href='vscode-notebook-cell:/Users/yidong/Desktop/%E9%9D%92%E8%AE%AD%E8%90%A5/DigitalRecognition/notebook/digital_recognition.ipynb#ch0000007?line=8'>9</a>\u001b[0m         \u001b[39mif\u001b[39;00m os\u001b[39m.\u001b[39mpath\u001b[39m.\u001b[39misdir(cur_name):\n",
      "File \u001b[0;32m/opt/miniconda3/lib/python3.8/posixpath.py:76\u001b[0m, in \u001b[0;36mjoin\u001b[0;34m(a, *p)\u001b[0m\n\u001b[1;32m     71\u001b[0m \u001b[39mdef\u001b[39;00m \u001b[39mjoin\u001b[39m(a, \u001b[39m*\u001b[39mp):\n\u001b[1;32m     72\u001b[0m     \u001b[39m\"\"\"Join two or more pathname components, inserting '/' as needed.\u001b[39;00m\n\u001b[1;32m     73\u001b[0m \u001b[39m    If any component is an absolute path, all previous path components\u001b[39;00m\n\u001b[1;32m     74\u001b[0m \u001b[39m    will be discarded.  An empty last part will result in a path that\u001b[39;00m\n\u001b[1;32m     75\u001b[0m \u001b[39m    ends with a separator.\"\"\"\u001b[39;00m\n\u001b[0;32m---> 76\u001b[0m     a \u001b[39m=\u001b[39m os\u001b[39m.\u001b[39;49mfspath(a)\n\u001b[1;32m     77\u001b[0m     sep \u001b[39m=\u001b[39m _get_sep(a)\n\u001b[1;32m     78\u001b[0m     path \u001b[39m=\u001b[39m a\n",
      "\u001b[0;31mTypeError\u001b[0m: expected str, bytes or os.PathLike object, not function"
     ]
    }
   ],
   "source": [
    "import zipfile\n",
    "\n",
    "def zipDir(zip_file, src_dir, parent_dir):\n",
    "    files = os.listdir(src_dir)\n",
    "    for name in files:\n",
    "        if name not in ['.', '..']:\n",
    "            cur_name = os.path.join(src_dir, name)\n",
    "            dst_name = os.path.join(parent_dir, name)\n",
    "            if os.path.isdir(cur_name):\n",
    "                zipDir(zip_file, cur_name, os.path.join(parent_dir, dst_name))\n",
    "            else:\n",
    "                zip_file.write(cur_name, dst_name)\n",
    "\n",
    "zip_file = 'dataset.zip'\n",
    "z = zipfile.ZipFile(zip_file, 'w', zipfile.ZIP_DEFLATED)\n",
    "zip_dir_name = os.path.join(\"./\", \"dataset\")\n",
    "zipDir(z, zip_dir_name, \"\")\n",
    "z.close()"
   ]
  }
 ],
 "metadata": {
  "kernelspec": {
   "display_name": "Python 3.8.3 ('base')",
   "language": "python",
   "name": "python3"
  },
  "language_info": {
   "codemirror_mode": {
    "name": "ipython",
    "version": 3
   },
   "file_extension": ".py",
   "mimetype": "text/x-python",
   "name": "python",
   "nbconvert_exporter": "python",
   "pygments_lexer": "ipython3",
   "version": "3.8.3"
  },
  "vscode": {
   "interpreter": {
    "hash": "3d597f4c481aa0f25dceb95d2a0067e73c0966dcbd003d741d821a7208527ecf"
   }
  }
 },
 "nbformat": 4,
 "nbformat_minor": 5
}
