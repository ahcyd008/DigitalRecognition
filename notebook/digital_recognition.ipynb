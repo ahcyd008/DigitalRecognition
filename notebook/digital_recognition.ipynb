{
 "cells": [
  {
   "cell_type": "code",
   "execution_count": 10,
   "id": "d1270e85",
   "metadata": {},
   "outputs": [
    {
     "name": "stdout",
     "output_type": "stream",
     "text": [
      "all file count= 2098\n",
      "train data: (33568, 28, 28) (33568,)\n",
      "tran data shape: (33568, 28, 28) (33568, 10)\n",
      "all file count= 207\n",
      "test data: (207, 28, 28) (207,)\n"
     ]
    }
   ],
   "source": [
    "import os, random\n",
    "import numpy as np\n",
    "import matplotlib.image as pltimage\n",
    "import matplotlib.pyplot as plt\n",
    "from PIL import Image\n",
    "import tensorflow as tf\n",
    "import torch, torchvision\n",
    "\n",
    "def show_files(label_dir):\n",
    "    all_files = []\n",
    "    file_list = os.listdir(label_dir)\n",
    "    for file in file_list:\n",
    "        cur_path = os.path.join(label_dir, file)\n",
    "        root, extension = os.path.splitext(cur_path)\n",
    "        ext_lower = extension.lower()\n",
    "        if ext_lower == \".png\" or ext_lower == \".jpg\" or ext_lower == \".jpeg\":\n",
    "            all_files.append(cur_path)\n",
    "    return all_files\n",
    "\n",
    "def obtainXY(data_dir, augmented=False, shuffle=False):\n",
    "    X = []\n",
    "    Y = []\n",
    "    classes =  [i for i in range(10)]\n",
    "    all_file_count = 0\n",
    "    for label in classes:\n",
    "        all_files = show_files(data_dir + str(label))\n",
    "        all_file_count += len(all_files)\n",
    "        for file in all_files:\n",
    "            org = Image.open(file)\n",
    "            # 需要数据增广\n",
    "            w, h, c = (*org.size, len(org.mode))\n",
    "            # 数据增广配置\n",
    "            trans = torchvision.transforms.Compose([\n",
    "                torchvision.transforms.RandomAffine(translate=(0.25, 0.25), scale=(0.8, 1.2), degrees=40, interpolation=torchvision.transforms.functional.InterpolationMode.NEAREST),\n",
    "                torchvision.transforms.RandomHorizontalFlip(p=0.2),\n",
    "                torchvision.transforms.RandomCrop(size=(h, w))])\n",
    "            # 增广15倍，带原图16张\n",
    "            for i in range(16):\n",
    "                if i == 0:\n",
    "                    img = org\n",
    "                else:\n",
    "                    img = trans(org)\n",
    "                img = img.resize((28, 28), Image.ANTIALIAS)\n",
    "                gray = img.convert(\"L\")\n",
    "                x = np.asarray(gray)/255.\n",
    "                y = label\n",
    "                X.append(x)\n",
    "                Y.append(y)\n",
    "                if not augmented: # 不需要增广时，只用原图\n",
    "                    break\n",
    "    print(\"all file count=\", all_file_count)\n",
    "    X = np.array(X)\n",
    "    Y = np.array(Y)\n",
    "    if shuffle:\n",
    "        indexs = [i for i in range(len(X))] \n",
    "        random.shuffle(indexs) #乱序\n",
    "        X = X[indexs]\n",
    "        Y = Y[indexs]\n",
    "    return X, Y\n",
    "\n",
    "dataset_dir = \"./dataset/\"\n",
    "X, Y = obtainXY(dataset_dir, augmented=True, shuffle=True)\n",
    "print(\"train data:\", X.shape, Y.shape)\n",
    "\n",
    "train_x = X\n",
    "# 将label转成向量，如 2 => [0, 0, 1, 0, 0, 0, 0, 0, 0, 0]\n",
    "train_y = tf.keras.utils.to_categorical(Y, num_classes=10)\n",
    "# input output shape\n",
    "print(\"tran data shape:\", train_x.shape, train_y.shape)\n",
    "\n",
    "dataset_test_dir = \"./dataset-test/\"\n",
    "vX, vY = obtainXY(dataset_test_dir)\n",
    "print(\"test data:\", vX.shape, vY.shape)"
   ]
  },
  {
   "cell_type": "code",
   "execution_count": 11,
   "id": "494583cf",
   "metadata": {},
   "outputs": [
    {
     "name": "stdout",
     "output_type": "stream",
     "text": [
      "Counter({7: 3648, 6: 3472, 9: 3472, 5: 3456, 4: 3424, 3: 3376, 0: 3312, 1: 3232, 8: 3216, 2: 2960}) 33568\n",
      "0 占比: 0.099\n",
      "1 占比: 0.096\n",
      "2 占比: 0.088\n",
      "3 占比: 0.101\n",
      "4 占比: 0.102\n",
      "5 占比: 0.103\n",
      "6 占比: 0.103\n",
      "7 占比: 0.109\n",
      "8 占比: 0.096\n",
      "9 占比: 0.103\n"
     ]
    }
   ],
   "source": [
    "from collections import Counter\n",
    "\n",
    "def print_pecent(data, class_num=10):\n",
    "    y_ = list(data)\n",
    "    size = len(y_)\n",
    "    class_counter = Counter(y_)\n",
    "    print(class_counter, size)\n",
    "    for i in range(class_num):\n",
    "        print(i, \"占比:\", round(class_counter[i]/size, 3))\n",
    "\n",
    "print_pecent(Y)"
   ]
  },
  {
   "cell_type": "code",
   "execution_count": 12,
   "id": "89f4e4ab",
   "metadata": {},
   "outputs": [],
   "source": [
    "from keras import layers, regularizers\n",
    "from keras.models import Sequential\n",
    "from keras.callbacks import ModelCheckpoint\n",
    "from keras.models import load_model\n",
    "\n",
    "# 全连接网络\n",
    "def creat_nn(print_summary=False):\n",
    "    model = Sequential()\n",
    "    model.add(layers.Flatten(input_shape=(28, 28)))\n",
    "    model.add(layers.Dense(128, activation='relu'))\n",
    "    model.add(layers.Dropout(0.2))\n",
    "    model.add(layers.Dense(10, activation='softmax'))\n",
    "    model.compile(loss='categorical_crossentropy', optimizer='adam', metrics=['accuracy'])\n",
    "    if print_summary:\n",
    "        model.summary()\n",
    "    return model\n",
    "\n",
    "# 卷积神经网络\n",
    "def creat_cnn(print_summary=False):\n",
    "    model = Sequential()\n",
    "    model.add(layers.Conv2D(32, (3, 3), strides=(2, 2), activation='relu', input_shape=(28, 28, 1)))\n",
    "    model.add(layers.Conv2D(16, (3, 3), strides=(2, 2), activation='relu'))\n",
    "    model.add(layers.Flatten())\n",
    "    model.add(layers.Dense(32, activation='relu'))\n",
    "    model.add(layers.Dense(10, activation='softmax'))\n",
    "    model.compile(loss='categorical_crossentropy', optimizer='adam', metrics=['accuracy'])\n",
    "    if print_summary:\n",
    "        model.summary()\n",
    "    return model\n",
    "\n",
    "# 训练模型\n",
    "def train_net(train_x, train_y, batch_size, epochs, use_cnn=False, load_save_model=False):\n",
    "    if use_cnn:\n",
    "        tflite_name = \"mymodel-cnn.tflite\"\n",
    "        model_path = './model-cnn/'\n",
    "    else:\n",
    "        tflite_name = \"mymodel.tflite\"\n",
    "        model_path = './model/'\n",
    "    if load_save_model:\n",
    "        print('train load save model path', model_path)\n",
    "        model = load_model(model_path)\n",
    "    else:\n",
    "        print('train create new model')\n",
    "        if use_cnn:\n",
    "            model = creat_cnn(print_summary=True) # cnn卷积神经网络\n",
    "        else:\n",
    "            model = creat_nn(print_summary=True) # 全连接网络\n",
    "    model.fit(train_x, train_y, batch_size=batch_size, epochs=epochs, verbose=1)\n",
    "    model.save(model_path)\n",
    "    \n",
    "    #save tflite model\n",
    "    converter = tf.lite.TFLiteConverter.from_keras_model(model)\n",
    "    tflite_model = converter.convert()\n",
    "    open(tflite_name, \"wb\").write(tflite_model)\n",
    "    return model\n",
    "\n",
    "# 验证模型\n",
    "def verify_model(model, valid_x, valid_y, num_classes=10):\n",
    "    y_pred = model.predict(valid_x)\n",
    "    y_pred = np.argmax(y_pred, axis=1)\n",
    "    size = [0 for i in range(num_classes)]\n",
    "    correct = [0 for i in range(num_classes)]\n",
    "    for i in range(len(y_pred)):\n",
    "        label = valid_y[i]\n",
    "        pred = y_pred[i]\n",
    "        size[label] += 1\n",
    "        if pred == label:\n",
    "            correct[label] += 1\n",
    "    print(\"total accuracy:\", sum(correct)/sum(size))\n",
    "    for i in range(num_classes):\n",
    "        print(\"label:\", str(i), \" accuracy:\", correct[i]/max(size[i], 1))"
   ]
  },
  {
   "cell_type": "code",
   "execution_count": 13,
   "id": "6458b31e",
   "metadata": {},
   "outputs": [
    {
     "name": "stdout",
     "output_type": "stream",
     "text": [
      "train create new model\n",
      "Model: \"sequential_3\"\n",
      "_________________________________________________________________\n",
      " Layer (type)                Output Shape              Param #   \n",
      "=================================================================\n",
      " flatten_3 (Flatten)         (None, 784)               0         \n",
      "                                                                 \n",
      " dense_6 (Dense)             (None, 128)               100480    \n",
      "                                                                 \n",
      " dropout_2 (Dropout)         (None, 128)               0         \n",
      "                                                                 \n",
      " dense_7 (Dense)             (None, 10)                1290      \n",
      "                                                                 \n",
      "=================================================================\n",
      "Total params: 101,770\n",
      "Trainable params: 101,770\n",
      "Non-trainable params: 0\n",
      "_________________________________________________________________\n",
      "Epoch 1/24\n",
      "2098/2098 [==============================] - 3s 1ms/step - loss: 1.8426 - accuracy: 0.3574\n",
      "Epoch 2/24\n",
      "2098/2098 [==============================] - 3s 1ms/step - loss: 1.2811 - accuracy: 0.5768\n",
      "Epoch 3/24\n",
      "2098/2098 [==============================] - 3s 1ms/step - loss: 1.0618 - accuracy: 0.6509\n",
      "Epoch 4/24\n",
      "2098/2098 [==============================] - 3s 1ms/step - loss: 0.9388 - accuracy: 0.6949\n",
      "Epoch 5/24\n",
      "2098/2098 [==============================] - 3s 1ms/step - loss: 0.8651 - accuracy: 0.7174\n",
      "Epoch 6/24\n",
      "2098/2098 [==============================] - 3s 1ms/step - loss: 0.8067 - accuracy: 0.7371\n",
      "Epoch 7/24\n",
      "2098/2098 [==============================] - 3s 1ms/step - loss: 0.7641 - accuracy: 0.7510\n",
      "Epoch 8/24\n",
      "2098/2098 [==============================] - 2s 1ms/step - loss: 0.7267 - accuracy: 0.7635\n",
      "Epoch 9/24\n",
      "2098/2098 [==============================] - 3s 1ms/step - loss: 0.6888 - accuracy: 0.7742\n",
      "Epoch 10/24\n",
      "2098/2098 [==============================] - 3s 1ms/step - loss: 0.6635 - accuracy: 0.7819\n",
      "Epoch 11/24\n",
      "2098/2098 [==============================] - 3s 1ms/step - loss: 0.6441 - accuracy: 0.7894\n",
      "Epoch 12/24\n",
      "2098/2098 [==============================] - 3s 1ms/step - loss: 0.6201 - accuracy: 0.7961\n",
      "Epoch 13/24\n",
      "2098/2098 [==============================] - 2s 1ms/step - loss: 0.6015 - accuracy: 0.8008\n",
      "Epoch 14/24\n",
      "2098/2098 [==============================] - 3s 1ms/step - loss: 0.5839 - accuracy: 0.8057\n",
      "Epoch 15/24\n",
      "2098/2098 [==============================] - 3s 1ms/step - loss: 0.5688 - accuracy: 0.8129\n",
      "Epoch 16/24\n",
      "2098/2098 [==============================] - 3s 1ms/step - loss: 0.5583 - accuracy: 0.8140\n",
      "Epoch 17/24\n",
      "2098/2098 [==============================] - 3s 1ms/step - loss: 0.5462 - accuracy: 0.8197\n",
      "Epoch 18/24\n",
      "2098/2098 [==============================] - 3s 1ms/step - loss: 0.5252 - accuracy: 0.8243\n",
      "Epoch 19/24\n",
      "2098/2098 [==============================] - 3s 1ms/step - loss: 0.5204 - accuracy: 0.8242\n",
      "Epoch 20/24\n",
      "2098/2098 [==============================] - 2s 1ms/step - loss: 0.5049 - accuracy: 0.8321\n",
      "Epoch 21/24\n",
      "2098/2098 [==============================] - 2s 1ms/step - loss: 0.5008 - accuracy: 0.8330\n",
      "Epoch 22/24\n",
      "2098/2098 [==============================] - 3s 1ms/step - loss: 0.4907 - accuracy: 0.8365\n",
      "Epoch 23/24\n",
      "2098/2098 [==============================] - 3s 1ms/step - loss: 0.4802 - accuracy: 0.8390\n",
      "Epoch 24/24\n",
      "2098/2098 [==============================] - 3s 1ms/step - loss: 0.4654 - accuracy: 0.8431\n",
      "INFO:tensorflow:Assets written to: ./model/assets\n"
     ]
    },
    {
     "name": "stderr",
     "output_type": "stream",
     "text": [
      "INFO:tensorflow:Assets written to: ./model/assets\n"
     ]
    },
    {
     "name": "stdout",
     "output_type": "stream",
     "text": [
      "INFO:tensorflow:Assets written to: /var/folders/yn/ntp3qk1946g09h3hckj58phm0000gp/T/tmp8ekk6u17/assets\n"
     ]
    },
    {
     "name": "stderr",
     "output_type": "stream",
     "text": [
      "INFO:tensorflow:Assets written to: /var/folders/yn/ntp3qk1946g09h3hckj58phm0000gp/T/tmp8ekk6u17/assets\n"
     ]
    },
    {
     "name": "stdout",
     "output_type": "stream",
     "text": [
      "7/7 [==============================] - 0s 1ms/step\n",
      "total accuracy: 0.9082125603864735\n",
      "label: 0  accuracy: 0.7727272727272727\n",
      "label: 1  accuracy: 0.96\n",
      "label: 2  accuracy: 0.9166666666666666\n",
      "label: 3  accuracy: 0.7894736842105263\n",
      "label: 4  accuracy: 0.9545454545454546\n",
      "label: 5  accuracy: 0.8333333333333334\n",
      "label: 6  accuracy: 1.0\n",
      "label: 7  accuracy: 1.0\n",
      "label: 8  accuracy: 0.9\n",
      "label: 9  accuracy: 1.0\n"
     ]
    },
    {
     "name": "stderr",
     "output_type": "stream",
     "text": [
      "2022-07-10 00:45:01.151734: W tensorflow/compiler/mlir/lite/python/tf_tfl_flatbuffer_helpers.cc:362] Ignored output_format.\n",
      "2022-07-10 00:45:01.151755: W tensorflow/compiler/mlir/lite/python/tf_tfl_flatbuffer_helpers.cc:365] Ignored drop_control_dependency.\n",
      "2022-07-10 00:45:01.151906: I tensorflow/cc/saved_model/reader.cc:43] Reading SavedModel from: /var/folders/yn/ntp3qk1946g09h3hckj58phm0000gp/T/tmp8ekk6u17\n",
      "2022-07-10 00:45:01.153995: I tensorflow/cc/saved_model/reader.cc:81] Reading meta graph with tags { serve }\n",
      "2022-07-10 00:45:01.154019: I tensorflow/cc/saved_model/reader.cc:122] Reading SavedModel debug info (if present) from: /var/folders/yn/ntp3qk1946g09h3hckj58phm0000gp/T/tmp8ekk6u17\n",
      "2022-07-10 00:45:01.160399: I tensorflow/cc/saved_model/loader.cc:228] Restoring SavedModel bundle.\n",
      "2022-07-10 00:45:01.216055: I tensorflow/cc/saved_model/loader.cc:212] Running initialization op on SavedModel bundle at path: /var/folders/yn/ntp3qk1946g09h3hckj58phm0000gp/T/tmp8ekk6u17\n",
      "2022-07-10 00:45:01.234603: I tensorflow/cc/saved_model/loader.cc:301] SavedModel load for tags { serve }; Status: success: OK. Took 82699 microseconds.\n"
     ]
    }
   ],
   "source": [
    "# 训练全连接网络模型\n",
    "model = train_net(train_x, train_y, batch_size=16, epochs=24, load_save_model=False)\n",
    "verify_model(model, vX, vY)"
   ]
  },
  {
   "cell_type": "code",
   "execution_count": 14,
   "id": "07c42876",
   "metadata": {},
   "outputs": [
    {
     "name": "stdout",
     "output_type": "stream",
     "text": [
      "train create new model\n",
      "Model: \"sequential_4\"\n",
      "_________________________________________________________________\n",
      " Layer (type)                Output Shape              Param #   \n",
      "=================================================================\n",
      " conv2d_2 (Conv2D)           (None, 13, 13, 32)        320       \n",
      "                                                                 \n",
      " conv2d_3 (Conv2D)           (None, 6, 6, 16)          4624      \n",
      "                                                                 \n",
      " flatten_4 (Flatten)         (None, 576)               0         \n",
      "                                                                 \n",
      " dense_8 (Dense)             (None, 32)                18464     \n",
      "                                                                 \n",
      " dense_9 (Dense)             (None, 10)                330       \n",
      "                                                                 \n",
      "=================================================================\n",
      "Total params: 23,738\n",
      "Trainable params: 23,738\n",
      "Non-trainable params: 0\n",
      "_________________________________________________________________\n",
      "Epoch 1/16\n",
      "2098/2098 [==============================] - 11s 5ms/step - loss: 1.4439 - accuracy: 0.4979\n",
      "Epoch 2/16\n",
      "2098/2098 [==============================] - 11s 5ms/step - loss: 0.8131 - accuracy: 0.7372\n",
      "Epoch 3/16\n",
      "2098/2098 [==============================] - 15s 7ms/step - loss: 0.6257 - accuracy: 0.7974\n",
      "Epoch 4/16\n",
      "2098/2098 [==============================] - 11s 5ms/step - loss: 0.5107 - accuracy: 0.8364\n",
      "Epoch 5/16\n",
      "2098/2098 [==============================] - 12s 6ms/step - loss: 0.4300 - accuracy: 0.8635\n",
      "Epoch 6/16\n",
      "2098/2098 [==============================] - 13s 6ms/step - loss: 0.3712 - accuracy: 0.8806\n",
      "Epoch 7/16\n",
      "2098/2098 [==============================] - 12s 6ms/step - loss: 0.3252 - accuracy: 0.8955\n",
      "Epoch 8/16\n",
      "2098/2098 [==============================] - 11s 5ms/step - loss: 0.2889 - accuracy: 0.9054\n",
      "Epoch 9/16\n",
      "2098/2098 [==============================] - 11s 5ms/step - loss: 0.2568 - accuracy: 0.9158\n",
      "Epoch 10/16\n",
      "2098/2098 [==============================] - 12s 6ms/step - loss: 0.2319 - accuracy: 0.9232\n",
      "Epoch 11/16\n",
      "2098/2098 [==============================] - 12s 6ms/step - loss: 0.2113 - accuracy: 0.9291\n",
      "Epoch 12/16\n",
      "2098/2098 [==============================] - 11s 5ms/step - loss: 0.1971 - accuracy: 0.9329\n",
      "Epoch 13/16\n",
      "2098/2098 [==============================] - 12s 6ms/step - loss: 0.1749 - accuracy: 0.9407\n",
      "Epoch 14/16\n",
      "2098/2098 [==============================] - 13s 6ms/step - loss: 0.1631 - accuracy: 0.9452\n",
      "Epoch 15/16\n",
      "2098/2098 [==============================] - 12s 6ms/step - loss: 0.1498 - accuracy: 0.9488\n",
      "Epoch 16/16\n",
      "2098/2098 [==============================] - 11s 5ms/step - loss: 0.1406 - accuracy: 0.9522\n"
     ]
    },
    {
     "name": "stderr",
     "output_type": "stream",
     "text": [
      "WARNING:absl:Found untraced functions such as _jit_compiled_convolution_op, _jit_compiled_convolution_op while saving (showing 2 of 2). These functions will not be directly callable after loading.\n"
     ]
    },
    {
     "name": "stdout",
     "output_type": "stream",
     "text": [
      "INFO:tensorflow:Assets written to: ./model-cnn/assets\n"
     ]
    },
    {
     "name": "stderr",
     "output_type": "stream",
     "text": [
      "INFO:tensorflow:Assets written to: ./model-cnn/assets\n",
      "WARNING:absl:Found untraced functions such as _jit_compiled_convolution_op, _jit_compiled_convolution_op while saving (showing 2 of 2). These functions will not be directly callable after loading.\n"
     ]
    },
    {
     "name": "stdout",
     "output_type": "stream",
     "text": [
      "INFO:tensorflow:Assets written to: /var/folders/yn/ntp3qk1946g09h3hckj58phm0000gp/T/tmpspnn9te9/assets\n"
     ]
    },
    {
     "name": "stderr",
     "output_type": "stream",
     "text": [
      "INFO:tensorflow:Assets written to: /var/folders/yn/ntp3qk1946g09h3hckj58phm0000gp/T/tmpspnn9te9/assets\n"
     ]
    },
    {
     "name": "stdout",
     "output_type": "stream",
     "text": [
      "7/7 [==============================] - 0s 3ms/step\n",
      "total accuracy: 0.966183574879227\n",
      "label: 0  accuracy: 0.9545454545454546\n",
      "label: 1  accuracy: 0.92\n",
      "label: 2  accuracy: 1.0\n",
      "label: 3  accuracy: 1.0\n",
      "label: 4  accuracy: 1.0\n",
      "label: 5  accuracy: 0.9166666666666666\n",
      "label: 6  accuracy: 1.0\n",
      "label: 7  accuracy: 1.0\n",
      "label: 8  accuracy: 1.0\n",
      "label: 9  accuracy: 0.8333333333333334\n"
     ]
    },
    {
     "name": "stderr",
     "output_type": "stream",
     "text": [
      "2022-07-10 00:48:15.445869: W tensorflow/compiler/mlir/lite/python/tf_tfl_flatbuffer_helpers.cc:362] Ignored output_format.\n",
      "2022-07-10 00:48:15.445917: W tensorflow/compiler/mlir/lite/python/tf_tfl_flatbuffer_helpers.cc:365] Ignored drop_control_dependency.\n",
      "2022-07-10 00:48:15.446077: I tensorflow/cc/saved_model/reader.cc:43] Reading SavedModel from: /var/folders/yn/ntp3qk1946g09h3hckj58phm0000gp/T/tmpspnn9te9\n",
      "2022-07-10 00:48:15.448569: I tensorflow/cc/saved_model/reader.cc:81] Reading meta graph with tags { serve }\n",
      "2022-07-10 00:48:15.448592: I tensorflow/cc/saved_model/reader.cc:122] Reading SavedModel debug info (if present) from: /var/folders/yn/ntp3qk1946g09h3hckj58phm0000gp/T/tmpspnn9te9\n",
      "2022-07-10 00:48:15.459114: I tensorflow/cc/saved_model/loader.cc:228] Restoring SavedModel bundle.\n",
      "2022-07-10 00:48:15.545525: I tensorflow/cc/saved_model/loader.cc:212] Running initialization op on SavedModel bundle at path: /var/folders/yn/ntp3qk1946g09h3hckj58phm0000gp/T/tmpspnn9te9\n",
      "2022-07-10 00:48:15.572289: I tensorflow/cc/saved_model/loader.cc:301] SavedModel load for tags { serve }; Status: success: OK. Took 126212 microseconds.\n"
     ]
    }
   ],
   "source": [
    "# 训练CNN卷积神经网络模型\n",
    "model = train_net(train_x, train_y, batch_size=16, epochs=16, use_cnn=True, load_save_model=False)\n",
    "verify_model(model, vX, vY)"
   ]
  },
  {
   "cell_type": "code",
   "execution_count": 15,
   "id": "f9353d12",
   "metadata": {},
   "outputs": [],
   "source": [
    "# retrain model\n",
    "#train_net(train_x, train_y, batch_size=16, epochs=8, load_save_model=True)"
   ]
  },
  {
   "cell_type": "code",
   "execution_count": 16,
   "id": "a5dded4c",
   "metadata": {},
   "outputs": [
    {
     "data": {
      "image/png": "[encoded data removed]",
      "text/plain": [
       "<Figure size 432x288 with 10 Axes>"
      ]
     },
     "metadata": {},
     "output_type": "display_data"
    }
   ],
   "source": [
    "# 数据增广测试代码，第一张为原图，其他为变换后图片\n",
    "import torch\n",
    "import torchvision\n",
    "org = Image.open(\"./dataset/0/2022_06_28_08_27_39_796.png\")\n",
    "w, h, c = (*org.size, len(org.mode))\n",
    "trans = torchvision.transforms.Compose([\n",
    "    torchvision.transforms.RandomAffine(translate=(0.25, 0.25), scale=(0.8, 1.2), degrees=40, interpolation=torchvision.transforms.functional.InterpolationMode.NEAREST),\n",
    "    torchvision.transforms.RandomHorizontalFlip(p=0.2),\n",
    "    torchvision.transforms.RandomCrop(size=(h, w))])\n",
    "\n",
    "plt.figure()\n",
    "for i in range(10):\n",
    "    if i == 0:\n",
    "        img = org\n",
    "    else:\n",
    "        img = trans(org)\n",
    "    img = img.resize((28, 28), Image.ANTIALIAS)\n",
    "    gray = img.convert(\"L\")\n",
    "    plt.subplot(4, 8, i+1)\n",
    "    plt.imshow(gray)\n",
    "    plt.xticks([])\n",
    "    plt.yticks([])\n",
    "plt.show()"
   ]
  }
 ],
 "metadata": {
  "kernelspec": {
   "display_name": "Python 3.8.3 ('base')",
   "language": "python",
   "name": "python3"
  },
  "language_info": {
   "codemirror_mode": {
    "name": "ipython",
    "version": 3
   },
   "file_extension": ".py",
   "mimetype": "text/x-python",
   "name": "python",
   "nbconvert_exporter": "python",
   "pygments_lexer": "ipython3",
   "version": "3.8.3"
  },
  "vscode": {
   "interpreter": {
    "hash": "3d597f4c481aa0f25dceb95d2a0067e73c0966dcbd003d741d821a7208527ecf"
   }
  }
 },
 "nbformat": 4,
 "nbformat_minor": 5
}
