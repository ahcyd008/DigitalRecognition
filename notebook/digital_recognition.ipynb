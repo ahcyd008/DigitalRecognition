{
 "cells": [
  {
   "cell_type": "code",
   "execution_count": 83,
   "id": "c2cd92b7",
   "metadata": {},
   "outputs": [
    {
     "name": "stdout",
     "output_type": "stream",
     "text": [
      "(129, 28, 28) (129,)\n"
     ]
    }
   ],
   "source": [
    "import os, random\n",
    "import numpy as np\n",
    "import matplotlib.image as pltimage\n",
    "import matplotlib.pyplot as plt\n",
    "from PIL import Image\n",
    "def show_files(label_dir):\n",
    "    all_files = []\n",
    "    file_list = os.listdir(label_dir)\n",
    "    for file in file_list:\n",
    "        cur_path = os.path.join(label_dir, file)\n",
    "        root, extension = os.path.splitext(cur_path)\n",
    "        ext_lower = extension.lower()\n",
    "        if ext_lower == \".png\" or ext_lower == \".jpg\" or ext_lower == \".jpeg\":\n",
    "            all_files.append(cur_path)\n",
    "    return all_files\n",
    "\n",
    "def obtainXY(data_dir, shuffle=False):\n",
    "    X = []\n",
    "    Y = []\n",
    "    classes =  [i for i in range(10)]\n",
    "    for label in classes:\n",
    "        all_files = show_files(data_dir + str(label))\n",
    "        for file in all_files:\n",
    "            img = Image.open(file)\n",
    "            img = img.resize((28, 28), Image.ANTIALIAS)\n",
    "            gray = img.convert(\"L\")\n",
    "            x = np.asarray(gray)/255.\n",
    "            y = label\n",
    "            X.append(x)\n",
    "            Y.append(y)\n",
    "    X = np.array(X)\n",
    "    Y = np.array(Y)\n",
    "    if shuffle:\n",
    "        indexs = [i for i in range(len(X))] \n",
    "        random.shuffle(indexs) #乱序\n",
    "        X = X[indexs]\n",
    "        Y = Y[indexs]\n",
    "    return X, Y\n",
    "\n",
    "dataset_dir = \"./dataset/\"\n",
    "X, Y = obtainXY(dataset_dir, shuffle=True)\n",
    "print(X.shape, Y.shape)"
   ]
  },
  {
   "cell_type": "code",
   "execution_count": 84,
   "id": "494583cf",
   "metadata": {},
   "outputs": [
    {
     "name": "stdout",
     "output_type": "stream",
     "text": [
      "Counter({1: 16, 5: 16, 9: 16, 3: 14, 4: 12, 2: 12, 7: 12, 8: 11, 6: 10, 0: 10}) 129\n",
      "0 占比: 0.078\n",
      "1 占比: 0.124\n",
      "2 占比: 0.093\n",
      "3 占比: 0.109\n",
      "4 占比: 0.093\n",
      "5 占比: 0.124\n",
      "6 占比: 0.078\n",
      "7 占比: 0.093\n",
      "8 占比: 0.085\n",
      "9 占比: 0.124\n"
     ]
    }
   ],
   "source": [
    "from collections import  Counter\n",
    "\n",
    "def print_pecent(data, class_num=10):\n",
    "    y_ = list(data)\n",
    "    size = len(y_)\n",
    "    class_counter = Counter(y_)\n",
    "    print(class_counter, size)\n",
    "    for i in range(class_num):\n",
    "        print(i, \"占比:\", round(class_counter[i]/size, 3))\n",
    "\n",
    "print_pecent(Y)"
   ]
  },
  {
   "cell_type": "code",
   "execution_count": 85,
   "id": "89f4e4ab",
   "metadata": {},
   "outputs": [
    {
     "name": "stdout",
     "output_type": "stream",
     "text": [
      "(129, 28, 28) (129, 10)\n",
      "train create new model\n",
      "Model: \"sequential_7\"\n",
      "_________________________________________________________________\n",
      " Layer (type)                Output Shape              Param #   \n",
      "=================================================================\n",
      " flatten_7 (Flatten)         (None, 784)               0         \n",
      "                                                                 \n",
      " dense_14 (Dense)            (None, 128)               100480    \n",
      "                                                                 \n",
      " dense_15 (Dense)            (None, 10)                1290      \n",
      "                                                                 \n",
      "=================================================================\n",
      "Total params: 101,770\n",
      "Trainable params: 101,770\n",
      "Non-trainable params: 0\n",
      "_________________________________________________________________\n",
      "Epoch 1/12\n",
      "9/9 [==============================] - 0s 2ms/step - loss: 2.2839 - accuracy: 0.1008\n",
      "Epoch 2/12\n",
      "9/9 [==============================] - 0s 1ms/step - loss: 1.8984 - accuracy: 0.5194\n",
      "Epoch 3/12\n",
      "9/9 [==============================] - 0s 1ms/step - loss: 1.6289 - accuracy: 0.6977\n",
      "Epoch 4/12\n",
      "9/9 [==============================] - 0s 1ms/step - loss: 1.3969 - accuracy: 0.8140\n",
      "Epoch 5/12\n",
      "9/9 [==============================] - 0s 2ms/step - loss: 1.1848 - accuracy: 0.8837\n",
      "Epoch 6/12\n",
      "9/9 [==============================] - 0s 1ms/step - loss: 1.0172 - accuracy: 0.8915\n",
      "Epoch 7/12\n",
      "9/9 [==============================] - 0s 1ms/step - loss: 0.8561 - accuracy: 0.9380\n",
      "Epoch 8/12\n",
      "9/9 [==============================] - 0s 1ms/step - loss: 0.7167 - accuracy: 0.9612\n",
      "Epoch 9/12\n",
      "9/9 [==============================] - 0s 1ms/step - loss: 0.6129 - accuracy: 0.9767\n",
      "Epoch 10/12\n",
      "9/9 [==============================] - 0s 1ms/step - loss: 0.5112 - accuracy: 0.9845\n",
      "Epoch 11/12\n",
      "9/9 [==============================] - 0s 1ms/step - loss: 0.4439 - accuracy: 0.9767\n",
      "Epoch 12/12\n",
      "9/9 [==============================] - 0s 2ms/step - loss: 0.3735 - accuracy: 0.9767\n",
      "INFO:tensorflow:Assets written to: ./model/assets\n"
     ]
    },
    {
     "name": "stderr",
     "output_type": "stream",
     "text": [
      "INFO:tensorflow:Assets written to: ./model/assets\n"
     ]
    },
    {
     "name": "stdout",
     "output_type": "stream",
     "text": [
      "INFO:tensorflow:Assets written to: /tmp/tmpvvfe3_ys/assets\n"
     ]
    },
    {
     "name": "stderr",
     "output_type": "stream",
     "text": [
      "INFO:tensorflow:Assets written to: /tmp/tmpvvfe3_ys/assets\n"
     ]
    }
   ],
   "source": [
    "import tensorflow as tf\n",
    "from keras import layers, regularizers\n",
    "from keras.models import Sequential\n",
    "from keras.callbacks import ModelCheckpoint\n",
    "from keras.models import load_model\n",
    "\n",
    "def creat_nn(print_summary=False):\n",
    "    model = Sequential()\n",
    "    model.add(layers.Flatten(input_shape=(28, 28)))\n",
    "    model.add(layers.Dense(128, activation='relu'))\n",
    "    model.add(layers.Dense(10, activation='softmax'))\n",
    "    model.compile(loss='categorical_crossentropy', optimizer='adam', metrics=['accuracy'])\n",
    "    if print_summary:\n",
    "        model.summary()\n",
    "    return model\n",
    "\n",
    "def train_cnn(train_x, train_y, batch_size, epochs, load_save_model=False):\n",
    "    model_path = './model/'\n",
    "    if load_save_model:\n",
    "        print('train load save model path', model_path)\n",
    "        model = load_model(model_path)\n",
    "    else:\n",
    "        print('train create new model')\n",
    "        model = creat_nn(print_summary=True)\n",
    "    model.fit(train_x, train_y, batch_size=batch_size, epochs=epochs, verbose=1)\n",
    "    model.save(model_path)\n",
    "    \n",
    "    #save tflite model\n",
    "    converter = tf.lite.TFLiteConverter.from_keras_model(model)\n",
    "    tflite_model = converter.convert()\n",
    "    tflite_path = model_path + 'mymodel.tflite'\n",
    "    save = open(tflite_path, 'wb')\n",
    "    save.write(tflite_model)\n",
    "    save.close()\n",
    "    return model\n",
    "\n",
    "train_x = X\n",
    "# 将label转成向量，如 2 => [0, 0, 1, 0, 0, 0, 0, 0, 0, 0]\n",
    "train_y = tf.keras.utils.to_categorical(Y, num_classes=10)\n",
    "# input output shape\n",
    "print(train_x.shape, train_y.shape)\n",
    "# first train model\n",
    "model = train_cnn(train_x, train_y, batch_size=16, epochs=12, load_save_model=False)"
   ]
  },
  {
   "cell_type": "code",
   "execution_count": 90,
   "id": "6458b31e",
   "metadata": {},
   "outputs": [
    {
     "name": "stdout",
     "output_type": "stream",
     "text": [
      "5/5 [==============================] - 0s 1ms/step\n",
      "accuracy 0.9844961240310077\n",
      "[10, 16, 12, 14, 12, 16, 10, 12, 11, 16] [10, 16, 12, 14, 12, 16, 9, 11, 11, 16]\n"
     ]
    }
   ],
   "source": [
    "def verify_model(model, valid_x, valid_y, num_classes=10):\n",
    "    y_pred = model.predict(valid_x)\n",
    "    y_pred = np.argmax(y_pred, axis=1)\n",
    "    size = [0 for i in range(num_classes)]\n",
    "    correct = [0 for i in range(num_classes)]\n",
    "    for i in range(len(y_pred)):\n",
    "        label = valid_y[i]\n",
    "        pred = y_pred[i]\n",
    "        size[label] += 1\n",
    "        if pred == label:\n",
    "            correct[label] += 1\n",
    "    print(\"total accuracy:\", sum(correct)/sum(size))\n",
    "    for i in range(num_classes):\n",
    "        print(\"label:\", str(i), \" accuracy:\", correct[i]/max(size[i], 1))\n",
    "    \n",
    "verify_model(model, X, Y)"
   ]
  },
  {
   "cell_type": "code",
   "execution_count": 80,
   "id": "f9353d12",
   "metadata": {},
   "outputs": [
    {
     "name": "stdout",
     "output_type": "stream",
     "text": [
      "train load save model path ./model/\n",
      "Epoch 1/8\n",
      "9/9 [==============================] - 0s 2ms/step - loss: 0.3483 - accuracy: 0.9690\n",
      "Epoch 2/8\n",
      "9/9 [==============================] - 0s 2ms/step - loss: 0.2401 - accuracy: 1.0000\n",
      "Epoch 3/8\n",
      "9/9 [==============================] - 0s 2ms/step - loss: 0.1915 - accuracy: 1.0000\n",
      "Epoch 4/8\n",
      "9/9 [==============================] - 0s 2ms/step - loss: 0.1488 - accuracy: 1.0000\n",
      "Epoch 5/8\n",
      "9/9 [==============================] - 0s 2ms/step - loss: 0.1200 - accuracy: 1.0000\n",
      "Epoch 6/8\n",
      "9/9 [==============================] - 0s 2ms/step - loss: 0.0982 - accuracy: 1.0000\n",
      "Epoch 7/8\n",
      "9/9 [==============================] - 0s 2ms/step - loss: 0.0837 - accuracy: 1.0000\n",
      "Epoch 8/8\n",
      "9/9 [==============================] - 0s 2ms/step - loss: 0.0707 - accuracy: 1.0000\n",
      "INFO:tensorflow:Assets written to: ./model/assets\n"
     ]
    },
    {
     "name": "stderr",
     "output_type": "stream",
     "text": [
      "INFO:tensorflow:Assets written to: ./model/assets\n"
     ]
    },
    {
     "name": "stdout",
     "output_type": "stream",
     "text": [
      "INFO:tensorflow:Assets written to: /tmp/tmpssbbe_4w/assets\n"
     ]
    },
    {
     "name": "stderr",
     "output_type": "stream",
     "text": [
      "INFO:tensorflow:Assets written to: /tmp/tmpssbbe_4w/assets\n"
     ]
    }
   ],
   "source": [
    "# retrain model\n",
    "train_cnn(train_x, train_y, batch_size=16, epochs=8, load_save_model=True)"
   ]
  }
 ],
 "metadata": {
  "kernelspec": {
   "display_name": "Python 3",
   "language": "python",
   "name": "python3"
  },
  "language_info": {
   "codemirror_mode": {
    "name": "ipython",
    "version": 3
   },
   "file_extension": ".py",
   "mimetype": "text/x-python",
   "name": "python",
   "nbconvert_exporter": "python",
   "pygments_lexer": "ipython3",
   "version": "3.7.12"
  }
 },
 "nbformat": 4,
 "nbformat_minor": 5
}
